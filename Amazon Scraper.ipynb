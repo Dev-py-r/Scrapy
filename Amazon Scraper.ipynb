{
 "cells": [
  {
   "cell_type": "code",
   "execution_count": 1,
   "id": "adolescent-extra",
   "metadata": {},
   "outputs": [],
   "source": [
    "import csv\n",
    "from bs4 import BeautifulSoup\n",
    "import io"
   ]
  },
  {
   "cell_type": "code",
   "execution_count": 2,
   "id": "stainless-cooperation",
   "metadata": {},
   "outputs": [
    {
     "name": "stdout",
     "output_type": "stream",
     "text": [
      "Requirement already satisfied: selenium in c:\\users\\prasa\\anaconda3\\lib\\site-packages (3.141.0)\n",
      "Requirement already satisfied: urllib3 in c:\\users\\prasa\\anaconda3\\lib\\site-packages (from selenium) (1.26.4)\n",
      "Note: you may need to restart the kernel to use updated packages.\n"
     ]
    }
   ],
   "source": [
    "pip install selenium"
   ]
  },
  {
   "cell_type": "code",
   "execution_count": 9,
   "id": "appointed-deployment",
   "metadata": {},
   "outputs": [],
   "source": [
    "#Firefox and Chrome"
   ]
  },
  {
   "cell_type": "code",
   "execution_count": 9,
   "id": "fifty-powder",
   "metadata": {},
   "outputs": [],
   "source": [
    "#Startup the webdriver\n",
    "from selenium import webdriver\n",
    "driver = webdriver.Chrome(r'C:\\Users\\prasa\\Desktop\\Bank\\chromedriver_win32\\chromedriver.exe')"
   ]
  },
  {
   "cell_type": "code",
   "execution_count": 10,
   "id": "figured-detail",
   "metadata": {},
   "outputs": [],
   "source": [
    "url = \"https://www.amazon.com\"\n",
    "driver.get(url)"
   ]
  },
  {
   "cell_type": "code",
   "execution_count": 11,
   "id": "primary-valuation",
   "metadata": {},
   "outputs": [],
   "source": [
    "def get_url(search_term):\n",
    "    \"\"\"Generate a url from search term\"\"\"\n",
    "    templete = \"https://www.amazon.com/s?k={}&ref=nb_sb_noss_2\"\n",
    "    search_term = search_term.replace(' ','+')\n",
    "    return templete.format(search_term)"
   ]
  },
  {
   "cell_type": "code",
   "execution_count": 12,
   "id": "unavailable-resident",
   "metadata": {},
   "outputs": [
    {
     "name": "stdout",
     "output_type": "stream",
     "text": [
      "https://www.amazon.com/s?k=ultrawide+monitor&ref=nb_sb_noss_2\n"
     ]
    }
   ],
   "source": [
    "url = get_url('ultrawide monitor')\n",
    "print(url)"
   ]
  },
  {
   "cell_type": "code",
   "execution_count": 33,
   "id": "potential-rebecca",
   "metadata": {},
   "outputs": [],
   "source": [
    "driver.get(url)"
   ]
  },
  {
   "cell_type": "markdown",
   "id": "relevant-aaron",
   "metadata": {},
   "source": [
    "## Extract the collection"
   ]
  },
  {
   "cell_type": "code",
   "execution_count": 35,
   "id": "opening-paper",
   "metadata": {},
   "outputs": [],
   "source": [
    "soup = BeautifulSoup(driver.page_source,'html.parser')"
   ]
  },
  {
   "cell_type": "code",
   "execution_count": 36,
   "id": "vertical-playing",
   "metadata": {},
   "outputs": [],
   "source": [
    "results = soup.find_all('div', {'data-component-type': 's-search-result'})"
   ]
  },
  {
   "cell_type": "code",
   "execution_count": 37,
   "id": "smooth-fitness",
   "metadata": {},
   "outputs": [
    {
     "data": {
      "text/plain": [
       "22"
      ]
     },
     "execution_count": 37,
     "metadata": {},
     "output_type": "execute_result"
    }
   ],
   "source": [
    "len(results)"
   ]
  },
  {
   "cell_type": "markdown",
   "id": "given-draft",
   "metadata": {},
   "source": [
    "## Prototype the record"
   ]
  },
  {
   "cell_type": "code",
   "execution_count": 41,
   "id": "played-ridge",
   "metadata": {},
   "outputs": [],
   "source": [
    "item = results[0]"
   ]
  },
  {
   "cell_type": "code",
   "execution_count": 42,
   "id": "patient-blond",
   "metadata": {},
   "outputs": [],
   "source": [
    "atag = item.h2.a"
   ]
  },
  {
   "cell_type": "code",
   "execution_count": 59,
   "id": "complex-state",
   "metadata": {},
   "outputs": [],
   "source": [
    "description = atag.text.strip()"
   ]
  },
  {
   "cell_type": "code",
   "execution_count": 47,
   "id": "daily-highland",
   "metadata": {},
   "outputs": [],
   "source": [
    "url = 'https://www.amazon.com' + atag.get('href')"
   ]
  },
  {
   "cell_type": "code",
   "execution_count": 48,
   "id": "signed-postage",
   "metadata": {},
   "outputs": [],
   "source": [
    "price_parent = item.find('span','a-price')"
   ]
  },
  {
   "cell_type": "code",
   "execution_count": 54,
   "id": "clear-scientist",
   "metadata": {},
   "outputs": [],
   "source": [
    "price = price_parent.find('span','a-offscreen').text"
   ]
  },
  {
   "cell_type": "code",
   "execution_count": 52,
   "id": "particular-electron",
   "metadata": {},
   "outputs": [],
   "source": [
    "rating = item.i.text"
   ]
  },
  {
   "cell_type": "code",
   "execution_count": 57,
   "id": "emotional-medium",
   "metadata": {},
   "outputs": [],
   "source": [
    "review_count = item.find('span',{'class': 'a-size-base','dir': 'auto'}).text"
   ]
  },
  {
   "cell_type": "markdown",
   "id": "copyrighted-thunder",
   "metadata": {},
   "source": [
    "## Generalize the pattern"
   ]
  },
  {
   "cell_type": "code",
   "execution_count": null,
   "id": "imported-hampshire",
   "metadata": {},
   "outputs": [],
   "source": [
    "def extract_record(item):\n",
    "    \"\"\"Extract and return data from a single record\"\"\"\n",
    "    \n",
    "    #description and url\n",
    "    atag = item.h2.a\n",
    "    description = atag.text.strip()\n",
    "    url = 'https://www.amazon.com' + atag.get('href')\n",
    "    \n",
    "    #price\n",
    "    price_parent = item.find('span','a-price')\n",
    "    price = price_parent.find('span','a-offscreen').text\n",
    "    \n",
    "    #rank and rating\n",
    "    rating = item.i.text\n",
    "    review_count = item.find('span',{'class': 'a-size-base','dir': 'auto'}).text\n",
    "    \n",
    "    result = (description,price,rating,review_count,url)\n",
    "    \n",
    "    return result"
   ]
  },
  {
   "cell_type": "code",
   "execution_count": null,
   "id": "given-canberra",
   "metadata": {},
   "outputs": [],
   "source": [
    "records = []\n",
    "results = soup.find_all('div',{'data-component-type': 's-search-result'})\n",
    "\n",
    "for item in results:\n",
    "    records.append(extract_record(item))"
   ]
  },
  {
   "cell_type": "markdown",
   "id": "numeric-collector",
   "metadata": {},
   "source": [
    "## Error handling"
   ]
  },
  {
   "cell_type": "code",
   "execution_count": 60,
   "id": "greater-imaging",
   "metadata": {},
   "outputs": [],
   "source": [
    "def extract_record(item):\n",
    "    \"\"\"Extract and return data from a single record\"\"\"\n",
    "    \n",
    "    #description and url\n",
    "    atag = item.h2.a\n",
    "    description = atag.text.strip()\n",
    "    url = 'https://www.amazon.com' + atag.get('href')\n",
    "    \n",
    "    try:\n",
    "        #price\n",
    "        price_parent = item.find('span','a-price')\n",
    "        price = price_parent.find('span','a-offscreen').text\n",
    "    except AttributeError:\n",
    "        return\n",
    "    \n",
    "    try:    \n",
    "        #rank and rating\n",
    "        rating = item.i.text\n",
    "        review_count = item.find('span',{'class': 'a-size-base','dir': 'auto'}).text\n",
    "    except AttributeError:\n",
    "        rating = ''\n",
    "        review_count = ''\n",
    "    \n",
    "    result = (description,price,rating,review_count,url)\n",
    "    \n",
    "    return result"
   ]
  },
  {
   "cell_type": "code",
   "execution_count": 61,
   "id": "harmful-pleasure",
   "metadata": {},
   "outputs": [],
   "source": [
    "records = []\n",
    "results = soup.find_all('div',{'data-component-type': 's-search-result'})\n",
    "\n",
    "for item in results:\n",
    "    record = extract_record(item)\n",
    "    if record:\n",
    "        records.append(record)"
   ]
  },
  {
   "cell_type": "code",
   "execution_count": 62,
   "id": "official-cursor",
   "metadata": {},
   "outputs": [
    {
     "data": {
      "text/plain": [
       "('Philips 292E2E 29\" Frameless IPS Monitor, UltraWide Full HD 2560x1080, 126% sRGB/110% NTSC, 75Hz FreeSync, Height Adjustable, VESA, 4Yr Advance Replacement',\n",
       " '$239.99',\n",
       " '4.6 out of 5 stars',\n",
       " '8,175',\n",
       " 'https://www.amazon.com/gp/slredirect/picassoRedirect.html/ref=pa_sp_atf_aps_sr_pg1_1?ie=UTF8&adId=A039471725XFL323IOIZX&url=%2FPhilips-292E2E-Frameless-Adjustable-Replacement%2Fdp%2FB08KFLL9JW%2Fref%3Dsr_1_1_sspa%3Fdchild%3D1%26keywords%3Dultrawide%2Bmonitor%26qid%3D1612164455%26sr%3D8-1-spons%26psc%3D1&qualifier=1612164455&id=119926103825272&widgetName=sp_atf')"
      ]
     },
     "execution_count": 62,
     "metadata": {},
     "output_type": "execute_result"
    }
   ],
   "source": [
    "records[0]"
   ]
  },
  {
   "cell_type": "code",
   "execution_count": 63,
   "id": "affecting-forum",
   "metadata": {},
   "outputs": [
    {
     "name": "stdout",
     "output_type": "stream",
     "text": [
      "$239.99\n",
      "$379.97\n",
      "$226.99\n",
      "$549.99\n",
      "$296.99\n",
      "$349.99\n",
      "$278.99\n",
      "$349.99\n",
      "$499.99\n",
      "$50.99\n",
      "$449.99\n",
      "$547.18\n",
      "$21.99\n",
      "$596.99\n",
      "$349.97\n",
      "$346.99\n",
      "$99.99\n",
      "$11.22\n"
     ]
    }
   ],
   "source": [
    "for row in records:\n",
    "    print(row[1])"
   ]
  },
  {
   "cell_type": "markdown",
   "id": "intermediate-cement",
   "metadata": {},
   "source": [
    "## Getting the next page"
   ]
  },
  {
   "cell_type": "code",
   "execution_count": null,
   "id": "american-illustration",
   "metadata": {},
   "outputs": [],
   "source": [
    "def get_url(search_term):\n",
    "    \"\"\"Generate a url from search term\"\"\"\n",
    "    templete = \"https://www.amazon.com/s?k={}&ref=nb_sb_noss_2\"\n",
    "    search_term = search_term.replace(' ','+')\n",
    "    \n",
    "    \n",
    "    # add term query to url\n",
    "    url = template.format(search_term)\n",
    "    \n",
    "    #add page query placeholder\n",
    "    \n",
    "    url += '&page{}'\n",
    "    \n",
    "    \n",
    "    \n",
    "    return url"
   ]
  },
  {
   "cell_type": "markdown",
   "id": "modern-socket",
   "metadata": {},
   "source": [
    "## Putting it all together"
   ]
  },
  {
   "cell_type": "code",
   "execution_count": 73,
   "id": "promising-sperm",
   "metadata": {},
   "outputs": [],
   "source": [
    "import csv\n",
    "from bs4 import BeautifulSoup\n",
    "from selenium import webdriver #For Chrome\n",
    "\n",
    "#Getting the pages\n",
    "\n",
    "def get_url(search_term):\n",
    "    \"\"\"Generate a url from search term\"\"\"\n",
    "    template = \"https://www.amazon.com/s?k={}&ref=nb_sb_noss_1\"\n",
    "    search_term = search_term.replace(' ','+')\n",
    "    \n",
    "    \n",
    "    # add term query to url\n",
    "    url = template.format(search_term)\n",
    "    \n",
    "    #add page query placeholder\n",
    "    \n",
    "    url += '&page{}'\n",
    "    \n",
    "    \n",
    "    \n",
    "    return url\n",
    "\n",
    "\n",
    "#Extract records\n",
    "\n",
    "def extract_record(item):\n",
    "    \"\"\"Extract and return data from a single record\"\"\"\n",
    "    \n",
    "    #description and url\n",
    "    atag = item.h2.a\n",
    "    description = atag.text.strip()\n",
    "    url = 'https://www.amazon.com' + atag.get('href')\n",
    "    \n",
    "    try:\n",
    "        #price\n",
    "        price_parent = item.find('span','a-price')\n",
    "        price = price_parent.find('span','a-offscreen').text\n",
    "    except AttributeError:\n",
    "        return\n",
    "    \n",
    "    try:    \n",
    "        #rank and rating\n",
    "        rating = item.i.text\n",
    "        review_count = item.find('span',{'class': 'a-size-base','dir': 'auto'}).text\n",
    "    except AttributeError:\n",
    "        rating = ''\n",
    "        review_count = ''\n",
    "    \n",
    "    result = (description,price,rating,review_count,url)\n",
    "    \n",
    "    return result\n",
    "\n",
    "def main(search_term):\n",
    "    \"\"\"Run main program routine\"\"\"\n",
    "    #startup the webdriver\n",
    "    driver = webdriver.Chrome(r'C:\\Users\\prasa\\Desktop\\Bank\\chromedriver_win32\\chromedriver.exe')\n",
    "    \n",
    "    record = []\n",
    "    url = get_url(search_term)\n",
    "    \n",
    "    for page in range(1,21):\n",
    "        driver.get(url.format(page))\n",
    "        soup = BeautifulSoup(driver.page_source,'html.parser')\n",
    "        results = soup.find_all('div', {'data-component-type': 's-search-result'})\n",
    "        \n",
    "        for item in results:\n",
    "            record = extract_record(item)\n",
    "            if record:\n",
    "                records.append(record)\n",
    "    driver.close()\n",
    "    \n",
    "    #save data to csv file\n",
    "    with open('results.csv','w',newline='',encoding='utf8') as f:\n",
    "        write = csv.writer(f)\n",
    "        write.writerow(['Description','Price','Rating','ReviewCount','Url'])\n",
    "        write.writerows(records)"
   ]
  },
  {
   "cell_type": "code",
   "execution_count": 74,
   "id": "surrounded-glasgow",
   "metadata": {},
   "outputs": [],
   "source": [
    "main('ultrawide monitor')"
   ]
  },
  {
   "cell_type": "code",
   "execution_count": null,
   "id": "interstate-dance",
   "metadata": {},
   "outputs": [],
   "source": []
  }
 ],
 "metadata": {
  "kernelspec": {
   "display_name": "Python 3",
   "language": "python",
   "name": "python3"
  },
  "language_info": {
   "codemirror_mode": {
    "name": "ipython",
    "version": 3
   },
   "file_extension": ".py",
   "mimetype": "text/x-python",
   "name": "python",
   "nbconvert_exporter": "python",
   "pygments_lexer": "ipython3",
   "version": "3.7.10"
  }
 },
 "nbformat": 4,
 "nbformat_minor": 5
}
